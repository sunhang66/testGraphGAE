{
 "cells": [
  {
   "cell_type": "code",
   "execution_count": 1,
   "id": "ff254864",
   "metadata": {},
   "outputs": [
    {
     "name": "stderr",
     "output_type": "stream",
     "text": [
      "2022-09-09 15:18:44,334 - INFO - Enabling RDKit 2022.03.5 jupyter extensions\n"
     ]
    }
   ],
   "source": [
    "import logging\n",
    "import numpy as np\n",
    "from tqdm import tqdm\n",
    "import torch\n",
    "\n",
    "from graphmae.utils import (\n",
    "    build_args,\n",
    "    create_optimizer,\n",
    "    set_random_seed,\n",
    "    TBLogger,\n",
    "    get_current_lr,\n",
    "    load_best_configs,\n",
    ")\n",
    "from graphmae.datasets.data_util import load_dataset\n",
    "from graphmae.evaluation import node_classification_evaluation\n",
    "from graphmae.models import build_model\n",
    "from ogb.nodeproppred import DglNodePropPredDataset"
   ]
  },
  {
   "cell_type": "code",
   "execution_count": 2,
   "id": "46c98fbb",
   "metadata": {},
   "outputs": [
    {
     "data": {
      "text/plain": [
       "_StoreAction(option_strings=['--batch_size'], dest='batch_size', nargs=None, const=None, default=32, type=<class 'int'>, choices=None, help=None, metavar=None)"
      ]
     },
     "execution_count": 2,
     "metadata": {},
     "output_type": "execute_result"
    }
   ],
   "source": [
    "import argparse\n",
    "parser = argparse.ArgumentParser(description=\"GAT\")\n",
    "parser.add_argument(\"--seeds\", type=int, nargs=\"+\", default=[0])\n",
    "parser.add_argument(\"--dataset\", type=str, default=\"cora\")\n",
    "parser.add_argument(\"--device\", type=int, default=-1)\n",
    "parser.add_argument(\"--max_epoch\", type=int, default=200,\n",
    "                    help=\"number of training epochs\")\n",
    "parser.add_argument(\"--warmup_steps\", type=int, default=-1)\n",
    "\n",
    "parser.add_argument(\"--num_heads\", type=int, default=4,\n",
    "                    help=\"number of hidden attention heads\")\n",
    "parser.add_argument(\"--num_out_heads\", type=int, default=1,\n",
    "                    help=\"number of output attention heads\")\n",
    "parser.add_argument(\"--num_layers\", type=int, default=2,\n",
    "                    help=\"number of hidden layers\")\n",
    "parser.add_argument(\"--num_hidden\", type=int, default=256,\n",
    "                    help=\"number of hidden units\")\n",
    "parser.add_argument(\"--residual\", action=\"store_true\", default=False,\n",
    "                    help=\"use residual connection\")\n",
    "parser.add_argument(\"--in_drop\", type=float, default=.2,\n",
    "                    help=\"input feature dropout\")\n",
    "parser.add_argument(\"--attn_drop\", type=float, default=.1,\n",
    "                    help=\"attention dropout\")\n",
    "parser.add_argument(\"--norm\", type=str, default=None)\n",
    "parser.add_argument(\"--lr\", type=float, default=0.005,\n",
    "                    help=\"learning rate\")\n",
    "parser.add_argument(\"--weight_decay\", type=float, default=5e-4,\n",
    "                    help=\"weight decay\")\n",
    "parser.add_argument(\"--negative_slope\", type=float, default=0.2,\n",
    "                    help=\"the negative slope of leaky relu for GAT\")\n",
    "parser.add_argument(\"--activation\", type=str, default=\"prelu\")\n",
    "parser.add_argument(\"--mask_rate\", type=float, default=0.5)\n",
    "parser.add_argument(\"--drop_edge_rate\", type=float, default=0.0)\n",
    "parser.add_argument(\"--replace_rate\", type=float, default=0.0)\n",
    "\n",
    "parser.add_argument(\"--encoder\", type=str, default=\"gat\")\n",
    "parser.add_argument(\"--decoder\", type=str, default=\"gat\")\n",
    "parser.add_argument(\"--loss_fn\", type=str, default=\"byol\")\n",
    "parser.add_argument(\"--alpha_l\", type=float, default=2, help=\"`pow`inddex for `sce` loss\")\n",
    "parser.add_argument(\"--optimizer\", type=str, default=\"adam\")\n",
    "\n",
    "parser.add_argument(\"--max_epoch_f\", type=int, default=30)\n",
    "parser.add_argument(\"--lr_f\", type=float, default=0.001, help=\"learning rate for evaluation\")\n",
    "parser.add_argument(\"--weight_decay_f\", type=float, default=0.0, help=\"weight decay for evaluation\")\n",
    "parser.add_argument(\"--linear_prob\", action=\"store_true\", default=False)\n",
    "\n",
    "parser.add_argument(\"--load_model\", action=\"store_true\")\n",
    "parser.add_argument(\"--save_model\", action=\"store_true\")\n",
    "parser.add_argument(\"--use_cfg\", action=\"store_true\")\n",
    "parser.add_argument(\"--logging\", action=\"store_true\")\n",
    "parser.add_argument(\"--scheduler\", action=\"store_true\", default=False)\n",
    "parser.add_argument(\"--concat_hidden\", action=\"store_true\", default=False)\n",
    "\n",
    "# for graph classification\n",
    "parser.add_argument(\"--pooling\", type=str, default=\"mean\")\n",
    "parser.add_argument(\"--deg4feat\", action=\"store_true\", default=False, help=\"use node degree as input feature\")\n",
    "parser.add_argument(\"--batch_size\", type=int, default=32)"
   ]
  },
  {
   "cell_type": "code",
   "execution_count": 3,
   "id": "c4dba2cb",
   "metadata": {},
   "outputs": [],
   "source": [
    "args = parser.parse_args([])"
   ]
  },
  {
   "cell_type": "code",
   "execution_count": 4,
   "id": "dc38f217",
   "metadata": {},
   "outputs": [],
   "source": [
    "args.lr = 0.001\n",
    "args.lr_f = 0.01\n",
    "args.num_hidden = 512\n",
    "args.num_heads = 4\n",
    "args.num_layers = 2\n",
    "args.weight_decay = 2e-4\n",
    "args.weight_decay_f= 1e-4\n",
    "args.max_epoch= 1500\n",
    "args.max_epoch_f= 300\n",
    "args.mask_rate= 0.5\n",
    "args.num_layers= 2\n",
    "args.encoder= \"gat\"\n",
    "args.decoder= \"gat\" \n",
    "args.activation= \"prelu\"\n",
    "args.in_drop= 0.2\n",
    "args.attn_drop= 0.1\n",
    "args.linear_prob= True\n",
    "args.loss_fn= \"sce\" \n",
    "args.drop_edge_rate=0.0\n",
    "args.optimizer= \"adam\"\n",
    "args.replace_rate= 0.05 \n",
    "args.alpha_l= 3\n",
    "args.scheduler= True"
   ]
  },
  {
   "cell_type": "code",
   "execution_count": 5,
   "id": "396b73d4",
   "metadata": {},
   "outputs": [
    {
     "data": {
      "text/plain": [
       "'cora'"
      ]
     },
     "execution_count": 5,
     "metadata": {},
     "output_type": "execute_result"
    }
   ],
   "source": [
    "args.dataset"
   ]
  },
  {
   "cell_type": "code",
   "execution_count": 6,
   "id": "1197e5b0",
   "metadata": {},
   "outputs": [],
   "source": [
    "device = args.device if args.device >= 0 else \"cpu\"\n",
    "seeds = args.seeds\n",
    "dataset_name = args.dataset\n",
    "max_epoch = args.max_epoch\n",
    "max_epoch_f = args.max_epoch_f\n",
    "num_hidden = args.num_hidden\n",
    "num_layers = args.num_layers\n",
    "encoder_type = args.encoder\n",
    "decoder_type = args.decoder\n",
    "replace_rate = args.replace_rate\n",
    "\n",
    "optim_type = args.optimizer \n",
    "loss_fn = args.loss_fn\n",
    "\n",
    "lr = args.lr\n",
    "weight_decay = args.weight_decay\n",
    "lr_f = args.lr_f\n",
    "weight_decay_f = args.weight_decay_f\n",
    "linear_prob = args.linear_prob\n",
    "load_model = args.load_model\n",
    "save_model = args.save_model\n",
    "logs = args.logging\n",
    "use_scheduler = args.scheduler"
   ]
  },
  {
   "cell_type": "code",
   "execution_count": 7,
   "id": "419bc10f",
   "metadata": {},
   "outputs": [
    {
     "name": "stdout",
     "output_type": "stream",
     "text": [
      "  NumNodes: 2708\n",
      "  NumEdges: 10556\n",
      "  NumFeats: 1433\n",
      "  NumClasses: 7\n",
      "  NumTrainingSamples: 140\n",
      "  NumValidationSamples: 500\n",
      "  NumTestSamples: 1000\n",
      "Done loading data from cached files.\n"
     ]
    }
   ],
   "source": [
    "graph, (num_features, num_classes) = load_dataset(dataset_name)"
   ]
  },
  {
   "cell_type": "code",
   "execution_count": 8,
   "id": "3001a5bc",
   "metadata": {},
   "outputs": [
    {
     "data": {
      "text/plain": [
       "Graph(num_nodes=2708, num_edges=13264,\n",
       "      ndata_schemes={'feat': Scheme(shape=(1433,), dtype=torch.float32), 'label': Scheme(shape=(), dtype=torch.int64), 'test_mask': Scheme(shape=(), dtype=torch.bool), 'val_mask': Scheme(shape=(), dtype=torch.bool), 'train_mask': Scheme(shape=(), dtype=torch.bool)}\n",
       "      edata_schemes={})"
      ]
     },
     "execution_count": 8,
     "metadata": {},
     "output_type": "execute_result"
    }
   ],
   "source": [
    "graph"
   ]
  },
  {
   "cell_type": "code",
   "execution_count": 9,
   "id": "45b6905c",
   "metadata": {},
   "outputs": [],
   "source": [
    "args.num_features = num_features"
   ]
  },
  {
   "cell_type": "code",
   "execution_count": 10,
   "id": "c98ff63f",
   "metadata": {},
   "outputs": [],
   "source": [
    "\n",
    "acc_list = []\n",
    "estp_acc_list = []"
   ]
  },
  {
   "cell_type": "code",
   "execution_count": 11,
   "id": "ebdbafaf",
   "metadata": {},
   "outputs": [
    {
     "name": "stdout",
     "output_type": "stream",
     "text": [
      "####### Run 0 for seed 0\n"
     ]
    }
   ],
   "source": [
    "for i, seed in enumerate(seeds):\n",
    "    print(f\"####### Run {i} for seed {seed}\")\n",
    "    set_random_seed(seed)"
   ]
  },
  {
   "cell_type": "code",
   "execution_count": 12,
   "id": "e396fb13",
   "metadata": {},
   "outputs": [
    {
     "data": {
      "text/plain": [
       "[0]"
      ]
     },
     "execution_count": 12,
     "metadata": {},
     "output_type": "execute_result"
    }
   ],
   "source": [
    "seeds"
   ]
  },
  {
   "cell_type": "code",
   "execution_count": 13,
   "id": "eba41c0a",
   "metadata": {},
   "outputs": [],
   "source": [
    "if logs:\n",
    "    logger = TBLogger(name=f\"{dataset_name}_loss_{loss_fn}_rpr_{replace_rate}_nh_{num_hidden}_nl_{num_layers}_lr_{lr}_mp_{max_epoch}_mpf_{max_epoch_f}_wd_{weight_decay}_wdf_{weight_decay_f}_{encoder_type}_{decoder_type}\")\n",
    "else:\n",
    "    logger = None"
   ]
  },
  {
   "cell_type": "code",
   "execution_count": 14,
   "id": "e7abeaa4",
   "metadata": {},
   "outputs": [
    {
     "data": {
      "text/plain": [
       "'sce'"
      ]
     },
     "execution_count": 14,
     "metadata": {},
     "output_type": "execute_result"
    }
   ],
   "source": [
    "args.loss_fn"
   ]
  },
  {
   "cell_type": "code",
   "execution_count": 15,
   "id": "69b618e7",
   "metadata": {},
   "outputs": [],
   "source": [
    "args.num_hidden = 512"
   ]
  },
  {
   "cell_type": "code",
   "execution_count": 16,
   "id": "50a3eeb0",
   "metadata": {},
   "outputs": [],
   "source": [
    "model = build_model(args)"
   ]
  },
  {
   "cell_type": "code",
   "execution_count": 17,
   "id": "0ae59979",
   "metadata": {},
   "outputs": [
    {
     "data": {
      "text/plain": [
       "PreModel(\n",
       "  (encoder): GAT(\n",
       "    (gat_layers): ModuleList(\n",
       "      (0): GATConv(\n",
       "        (fc): Linear(in_features=1433, out_features=512, bias=False)\n",
       "        (feat_drop): Dropout(p=0.2, inplace=False)\n",
       "        (attn_drop): Dropout(p=0.1, inplace=False)\n",
       "        (leaky_relu): LeakyReLU(negative_slope=0.2)\n",
       "        (activation): PReLU(num_parameters=1)\n",
       "      )\n",
       "      (1): GATConv(\n",
       "        (fc): Linear(in_features=512, out_features=512, bias=False)\n",
       "        (feat_drop): Dropout(p=0.2, inplace=False)\n",
       "        (attn_drop): Dropout(p=0.1, inplace=False)\n",
       "        (leaky_relu): LeakyReLU(negative_slope=0.2)\n",
       "        (activation): PReLU(num_parameters=1)\n",
       "      )\n",
       "    )\n",
       "    (head): Identity()\n",
       "  )\n",
       "  (decoder): GAT(\n",
       "    (gat_layers): ModuleList(\n",
       "      (0): GATConv(\n",
       "        (fc): Linear(in_features=512, out_features=1433, bias=False)\n",
       "        (feat_drop): Dropout(p=0.2, inplace=False)\n",
       "        (attn_drop): Dropout(p=0.1, inplace=False)\n",
       "        (leaky_relu): LeakyReLU(negative_slope=0.2)\n",
       "      )\n",
       "    )\n",
       "    (head): Identity()\n",
       "  )\n",
       "  (encoder_to_decoder): Linear(in_features=512, out_features=512, bias=False)\n",
       ")"
      ]
     },
     "execution_count": 17,
     "metadata": {},
     "output_type": "execute_result"
    }
   ],
   "source": [
    "model"
   ]
  },
  {
   "cell_type": "code",
   "execution_count": 18,
   "id": "c03cbe67",
   "metadata": {},
   "outputs": [],
   "source": [
    "device = 1"
   ]
  },
  {
   "cell_type": "code",
   "execution_count": 19,
   "id": "de481ba4",
   "metadata": {},
   "outputs": [
    {
     "data": {
      "text/plain": [
       "PreModel(\n",
       "  (encoder): GAT(\n",
       "    (gat_layers): ModuleList(\n",
       "      (0): GATConv(\n",
       "        (fc): Linear(in_features=1433, out_features=512, bias=False)\n",
       "        (feat_drop): Dropout(p=0.2, inplace=False)\n",
       "        (attn_drop): Dropout(p=0.1, inplace=False)\n",
       "        (leaky_relu): LeakyReLU(negative_slope=0.2)\n",
       "        (activation): PReLU(num_parameters=1)\n",
       "      )\n",
       "      (1): GATConv(\n",
       "        (fc): Linear(in_features=512, out_features=512, bias=False)\n",
       "        (feat_drop): Dropout(p=0.2, inplace=False)\n",
       "        (attn_drop): Dropout(p=0.1, inplace=False)\n",
       "        (leaky_relu): LeakyReLU(negative_slope=0.2)\n",
       "        (activation): PReLU(num_parameters=1)\n",
       "      )\n",
       "    )\n",
       "    (head): Identity()\n",
       "  )\n",
       "  (decoder): GAT(\n",
       "    (gat_layers): ModuleList(\n",
       "      (0): GATConv(\n",
       "        (fc): Linear(in_features=512, out_features=1433, bias=False)\n",
       "        (feat_drop): Dropout(p=0.2, inplace=False)\n",
       "        (attn_drop): Dropout(p=0.1, inplace=False)\n",
       "        (leaky_relu): LeakyReLU(negative_slope=0.2)\n",
       "      )\n",
       "    )\n",
       "    (head): Identity()\n",
       "  )\n",
       "  (encoder_to_decoder): Linear(in_features=512, out_features=512, bias=False)\n",
       ")"
      ]
     },
     "execution_count": 19,
     "metadata": {},
     "output_type": "execute_result"
    }
   ],
   "source": [
    "model.to(device)"
   ]
  },
  {
   "cell_type": "code",
   "execution_count": 20,
   "id": "99755a1b",
   "metadata": {},
   "outputs": [],
   "source": [
    "optimizer = create_optimizer(optim_type, model, lr, weight_decay)"
   ]
  },
  {
   "cell_type": "code",
   "execution_count": 21,
   "id": "b338effb",
   "metadata": {},
   "outputs": [
    {
     "data": {
      "text/plain": [
       "Adam (\n",
       "Parameter Group 0\n",
       "    amsgrad: False\n",
       "    betas: (0.9, 0.999)\n",
       "    eps: 1e-08\n",
       "    lr: 0.001\n",
       "    weight_decay: 0.0002\n",
       ")"
      ]
     },
     "execution_count": 21,
     "metadata": {},
     "output_type": "execute_result"
    }
   ],
   "source": [
    "optimizer"
   ]
  },
  {
   "cell_type": "code",
   "execution_count": 22,
   "id": "3d2f1d59",
   "metadata": {},
   "outputs": [],
   "source": [
    "def pretrain(model, graph, feat, optimizer, max_epoch, device, scheduler, num_classes, lr_f, weight_decay_f, max_epoch_f, linear_prob, logger=None):\n",
    "    logging.info(\"start training..\")\n",
    "    graph = graph.to(device)\n",
    "    x = feat.to(device)\n",
    "\n",
    "    epoch_iter = tqdm(range(max_epoch))\n",
    "\n",
    "    for epoch in epoch_iter:\n",
    "        model.train()\n",
    "\n",
    "        loss, loss_dict = model(graph, x)\n",
    "\n",
    "        optimizer.zero_grad()\n",
    "        loss.backward()\n",
    "        optimizer.step()\n",
    "        if scheduler is not None:\n",
    "            scheduler.step()\n",
    "\n",
    "        epoch_iter.set_description(f\"# Epoch {epoch}: train_loss: {loss.item():.4f}\")\n",
    "        if logger is not None:\n",
    "            loss_dict[\"lr\"] = get_current_lr(optimizer)\n",
    "            logger.note(loss_dict, step=epoch)\n",
    "\n",
    "        if (epoch + 1) % 200 == 0:\n",
    "            node_classification_evaluation(model, graph, x, num_classes, lr_f, weight_decay_f, max_epoch_f, device, linear_prob, mute=True)\n",
    "\n",
    "    # return best_model\n",
    "    return model\n"
   ]
  },
  {
   "cell_type": "code",
   "execution_count": 23,
   "id": "a97b791b",
   "metadata": {},
   "outputs": [
    {
     "name": "stderr",
     "output_type": "stream",
     "text": [
      "2022-09-09 15:18:49,497 - INFO - Use schedular\n",
      "2022-09-09 15:18:49,499 - INFO - start training..\n",
      "# Epoch 207: train_loss: 0.4237:  14%|█████████████████▊                                                                                                                | 206/1500 [00:06<01:06, 19.57it/s]"
     ]
    },
    {
     "name": "stdout",
     "output_type": "stream",
     "text": [
      "# IGNORE: --- TestAcc: 0.8290, early-stopping-TestAcc: 0.8290, Best ValAcc: 0.8020 in epoch 237 --- \n"
     ]
    },
    {
     "name": "stderr",
     "output_type": "stream",
     "text": [
      "# Epoch 408: train_loss: 0.4159:  27%|███████████████████████████████████                                                                                               | 405/1500 [00:11<00:56, 19.47it/s]"
     ]
    },
    {
     "name": "stdout",
     "output_type": "stream",
     "text": [
      "# IGNORE: --- TestAcc: 0.8390, early-stopping-TestAcc: 0.8290, Best ValAcc: 0.7960 in epoch 84 --- \n"
     ]
    },
    {
     "name": "stderr",
     "output_type": "stream",
     "text": [
      "# Epoch 607: train_loss: 0.4162:  40%|████████████████████████████████████████████████████▍                                                                             | 605/1500 [00:16<00:47, 18.87it/s]"
     ]
    },
    {
     "name": "stdout",
     "output_type": "stream",
     "text": [
      "# IGNORE: --- TestAcc: 0.8360, early-stopping-TestAcc: 0.8240, Best ValAcc: 0.7960 in epoch 35 --- \n"
     ]
    },
    {
     "name": "stderr",
     "output_type": "stream",
     "text": [
      "# Epoch 808: train_loss: 0.4025:  54%|██████████████████████████████████████████████████████████████████████                                                            | 808/1500 [00:21<00:31, 21.87it/s]"
     ]
    },
    {
     "name": "stdout",
     "output_type": "stream",
     "text": [
      "# IGNORE: --- TestAcc: 0.8360, early-stopping-TestAcc: 0.8290, Best ValAcc: 0.7920 in epoch 13 --- \n"
     ]
    },
    {
     "name": "stderr",
     "output_type": "stream",
     "text": [
      "# Epoch 1007: train_loss: 0.3976:  67%|█████████████████████████████████████████████████████████████████████████████████████▋                                          | 1004/1500 [00:27<00:33, 14.64it/s]"
     ]
    },
    {
     "name": "stdout",
     "output_type": "stream",
     "text": [
      "# IGNORE: --- TestAcc: 0.8360, early-stopping-TestAcc: 0.8360, Best ValAcc: 0.7940 in epoch 299 --- \n"
     ]
    },
    {
     "name": "stderr",
     "output_type": "stream",
     "text": [
      "# Epoch 1208: train_loss: 0.4075:  81%|███████████████████████████████████████████████████████████████████████████████████████████████████████▏                        | 1209/1500 [00:32<00:14, 19.61it/s]"
     ]
    },
    {
     "name": "stdout",
     "output_type": "stream",
     "text": [
      "# IGNORE: --- TestAcc: 0.8400, early-stopping-TestAcc: 0.8270, Best ValAcc: 0.8020 in epoch 21 --- \n"
     ]
    },
    {
     "name": "stderr",
     "output_type": "stream",
     "text": [
      "# Epoch 1407: train_loss: 0.3996:  94%|███████████████████████████████████████████████████████████████████████████████████████████████████████████████████████▉        | 1406/1500 [00:37<00:04, 19.12it/s]"
     ]
    },
    {
     "name": "stdout",
     "output_type": "stream",
     "text": [
      "# IGNORE: --- TestAcc: 0.8410, early-stopping-TestAcc: 0.8300, Best ValAcc: 0.8020 in epoch 19 --- \n"
     ]
    },
    {
     "name": "stderr",
     "output_type": "stream",
     "text": [
      "# Epoch 1499: train_loss: 0.3969: 100%|████████████████████████████████████████████████████████████████████████████████████████████████████████████████████████████████| 1500/1500 [00:39<00:00, 37.95it/s]\n"
     ]
    }
   ],
   "source": [
    "if use_scheduler:\n",
    "    logging.info(\"Use schedular\")\n",
    "    scheduler = lambda epoch :( 1 + np.cos((epoch) * np.pi / max_epoch) ) * 0.5\n",
    "    # scheduler = lambda epoch: epoch / warmup_steps if epoch < warmup_steps \\\n",
    "            # else ( 1 + np.cos((epoch - warmup_steps) * np.pi / (max_epoch - warmup_steps))) * 0.5\n",
    "    scheduler = torch.optim.lr_scheduler.LambdaLR(optimizer, lr_lambda=scheduler)\n",
    "else:\n",
    "    scheduler = None\n",
    "\n",
    "x = graph.ndata[\"feat\"]\n",
    "if not load_model:\n",
    "    model = pretrain(model, graph, x, optimizer, max_epoch, device, scheduler, num_classes, lr_f, weight_decay_f, max_epoch_f, linear_prob, logger)\n",
    "    model = model.cpu()"
   ]
  },
  {
   "cell_type": "code",
   "execution_count": 25,
   "id": "5289bbe1",
   "metadata": {},
   "outputs": [
    {
     "data": {
      "text/plain": [
       "False"
      ]
     },
     "execution_count": 25,
     "metadata": {},
     "output_type": "execute_result"
    }
   ],
   "source": [
    "load_model"
   ]
  },
  {
   "cell_type": "code",
   "execution_count": null,
   "id": "d5483f3c",
   "metadata": {},
   "outputs": [],
   "source": []
  }
 ],
 "metadata": {
  "kernelspec": {
   "display_name": "Python 3 (ipykernel)",
   "language": "python",
   "name": "python3"
  },
  "language_info": {
   "codemirror_mode": {
    "name": "ipython",
    "version": 3
   },
   "file_extension": ".py",
   "mimetype": "text/x-python",
   "name": "python",
   "nbconvert_exporter": "python",
   "pygments_lexer": "ipython3",
   "version": "3.7.12"
  }
 },
 "nbformat": 4,
 "nbformat_minor": 5
}
