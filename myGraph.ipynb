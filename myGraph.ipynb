{
 "cells": [
  {
   "cell_type": "code",
   "execution_count": 3,
   "id": "3f07469d",
   "metadata": {},
   "outputs": [],
   "source": [
    "import pandas as pd\n",
    "#import calculate_adj\n",
    "import anndata as ad\n",
    "import scanpy as sc\n",
    "from operator import index\n",
    "import re\n",
    "from scipy.spatial.distance import pdist, squareform\n",
    "import pandas as pd\n",
    "import numpy as np\n",
    "from scipy import sparse"
   ]
  },
  {
   "cell_type": "code",
   "execution_count": 5,
   "id": "5df67ccc",
   "metadata": {},
   "outputs": [],
   "source": [
    "folder_name = \"/home/sunhang/Embedding/CCST/dataset/DLPFC/\"\n",
    "samplea_list = {151507,\n",
    " 151508,\n",
    " 151509,\n",
    " 151510,\n",
    " 151669,\n",
    " 151670,\n",
    " 151671,\n",
    " 151672,\n",
    " 151673,\n",
    " 151674,\n",
    " 151675,\n",
    " 151676}\n",
    "sample_name = str(151673)\n",
    "gene_exp_data_file = folder_name + sample_name + \"_DLPFC_count.csv\"\n",
    "gene_loc_data_file = folder_name + sample_name + \"_DLPFC_col_name.csv\"\n",
    "#save file\n",
    "npz_file = folder_name + sample_name + \"_DLPFC_distacne.npz\""
   ]
  },
  {
   "cell_type": "code",
   "execution_count": 7,
   "id": "577c4168",
   "metadata": {},
   "outputs": [],
   "source": [
    "gene_csv = pd.read_csv(gene_exp_data_file,index_col= 0 )\n",
    "gene_loc_data_csv = pd.read_csv(gene_loc_data_file,index_col=0)\n",
    "gene_loc_data_csv = gene_loc_data_csv.fillna(\"None\")"
   ]
  },
  {
   "cell_type": "code",
   "execution_count": 8,
   "id": "437bc229",
   "metadata": {},
   "outputs": [],
   "source": [
    "row_name = \"imagerow\"\n",
    "col_name = \"imagecol\""
   ]
  },
  {
   "cell_type": "code",
   "execution_count": 9,
   "id": "02565fcd",
   "metadata": {},
   "outputs": [],
   "source": [
    "cell_loc = gene_loc_data_csv[[row_name,col_name]].values"
   ]
  },
  {
   "cell_type": "code",
   "execution_count": 10,
   "id": "f185e112",
   "metadata": {},
   "outputs": [],
   "source": [
    "distance_np = pdist(cell_loc, metric = \"euclidean\")\n",
    "distance_np_X =squareform(distance_np)\n",
    "distance_loc_csv = pd.DataFrame(index=gene_loc_data_csv.index, columns=gene_loc_data_csv.index,data = distance_np_X)"
   ]
  },
  {
   "cell_type": "code",
   "execution_count": 145,
   "id": "c43e5e3f",
   "metadata": {},
   "outputs": [
    {
     "data": {
      "text/plain": [
       "Index(['barcode', 'sample_name', 'tissue', 'row', 'col', 'imagerow',\n",
       "       'imagecol', 'Cluster', 'height', 'width', 'sum_umi', 'sum_gene',\n",
       "       'subject', 'position', 'replicate', 'subject_position', 'discard',\n",
       "       'key', 'cell_count', 'SNN_k50_k4', 'SNN_k50_k5', 'SNN_k50_k6',\n",
       "       'SNN_k50_k7', 'SNN_k50_k8', 'SNN_k50_k9', 'SNN_k50_k10', 'SNN_k50_k11',\n",
       "       'SNN_k50_k12', 'SNN_k50_k13', 'SNN_k50_k14', 'SNN_k50_k15',\n",
       "       'SNN_k50_k16', 'SNN_k50_k17', 'SNN_k50_k18', 'SNN_k50_k19',\n",
       "       'SNN_k50_k20', 'SNN_k50_k21', 'SNN_k50_k22', 'SNN_k50_k23',\n",
       "       'SNN_k50_k24', 'SNN_k50_k25', 'SNN_k50_k26', 'SNN_k50_k27',\n",
       "       'SNN_k50_k28', 'GraphBased', 'Maynard', 'Martinowich', 'Layer',\n",
       "       'layer_guess', 'layer_guess_reordered', 'layer_guess_reordered_short',\n",
       "       'expr_chrM', 'expr_chrM_ratio', 'SpatialDE_PCA', 'SpatialDE_pool_PCA',\n",
       "       'HVG_PCA', 'pseudobulk_PCA', 'markers_PCA', 'SpatialDE_UMAP',\n",
       "       'SpatialDE_pool_UMAP', 'HVG_UMAP', 'pseudobulk_UMAP', 'markers_UMAP',\n",
       "       'SpatialDE_PCA_spatial', 'SpatialDE_pool_PCA_spatial',\n",
       "       'HVG_PCA_spatial', 'pseudobulk_PCA_spatial', 'markers_PCA_spatial',\n",
       "       'SpatialDE_UMAP_spatial', 'SpatialDE_pool_UMAP_spatial',\n",
       "       'HVG_UMAP_spatial', 'pseudobulk_UMAP_spatial', 'markers_UMAP_spatial'],\n",
       "      dtype='object')"
      ]
     },
     "execution_count": 145,
     "metadata": {},
     "output_type": "execute_result"
    }
   ],
   "source": [
    "gene_loc_data_csv.columns"
   ]
  },
  {
   "cell_type": "code",
   "execution_count": 87,
   "id": "fbb13fd4",
   "metadata": {},
   "outputs": [
    {
     "data": {
      "text/plain": [
       "(3639, 3639)"
      ]
     },
     "execution_count": 87,
     "metadata": {},
     "output_type": "execute_result"
    }
   ],
   "source": [
    "distance_np_X.shape"
   ]
  },
  {
   "cell_type": "code",
   "execution_count": 78,
   "id": "ae1b8273",
   "metadata": {},
   "outputs": [],
   "source": [
    "threshold = 10"
   ]
  },
  {
   "cell_type": "code",
   "execution_count": 79,
   "id": "92756016",
   "metadata": {},
   "outputs": [
    {
     "data": {
      "text/plain": [
       "array([[False,  True,  True, ...,  True,  True,  True],\n",
       "       [ True, False,  True, ...,  True,  True,  True],\n",
       "       [ True,  True, False, ...,  True,  True,  True],\n",
       "       ...,\n",
       "       [ True,  True,  True, ..., False,  True,  True],\n",
       "       [ True,  True,  True, ...,  True, False,  True],\n",
       "       [ True,  True,  True, ...,  True,  True, False]])"
      ]
     },
     "execution_count": 79,
     "metadata": {},
     "output_type": "execute_result"
    }
   ],
   "source": [
    "0< distance_np_X"
   ]
  },
  {
   "cell_type": "code",
   "execution_count": 80,
   "id": "eb001e53",
   "metadata": {},
   "outputs": [],
   "source": [
    "num_big = np.where((0< distance_np_X)&(distance_np_X<threshold))[0].shape[0]"
   ]
  },
  {
   "cell_type": "code",
   "execution_count": 86,
   "id": "0eefd2e2",
   "metadata": {},
   "outputs": [
    {
     "data": {
      "text/plain": [
       "(array([   0,    0,    0, ..., 3638, 3638, 3638]),\n",
       " array([ 397,  485, 1059, ..., 2307, 2506, 3402]))"
      ]
     },
     "execution_count": 86,
     "metadata": {},
     "output_type": "execute_result"
    }
   ],
   "source": [
    "np.where((0< distance_np_X)&(distance_np_X<threshold))"
   ]
  },
  {
   "cell_type": "code",
   "execution_count": 81,
   "id": "d87e770d",
   "metadata": {},
   "outputs": [],
   "source": [
    "cell_num = distance_np_X.shape[0]"
   ]
  },
  {
   "cell_type": "code",
   "execution_count": 82,
   "id": "2465df93",
   "metadata": {},
   "outputs": [
    {
     "data": {
      "text/plain": [
       "3639"
      ]
     },
     "execution_count": 82,
     "metadata": {},
     "output_type": "execute_result"
    }
   ],
   "source": [
    "cell_num"
   ]
  },
  {
   "cell_type": "code",
   "execution_count": 83,
   "id": "56b1126d",
   "metadata": {},
   "outputs": [
    {
     "data": {
      "text/plain": [
       "'2.9024457268480353'"
      ]
     },
     "execution_count": 83,
     "metadata": {},
     "output_type": "execute_result"
    }
   ],
   "source": [
    "str(num_big/(cell_num*2))"
   ]
  },
  {
   "cell_type": "code",
   "execution_count": 84,
   "id": "1fb48e08",
   "metadata": {},
   "outputs": [
    {
     "data": {
      "text/plain": [
       "21124"
      ]
     },
     "execution_count": 84,
     "metadata": {},
     "output_type": "execute_result"
    }
   ],
   "source": [
    "num_big"
   ]
  },
  {
   "cell_type": "code",
   "execution_count": 89,
   "id": "83b4fc72",
   "metadata": {},
   "outputs": [],
   "source": [
    "adj_matrix = np.zeros(distance_np_X.shape)"
   ]
  },
  {
   "cell_type": "code",
   "execution_count": 94,
   "id": "b6292a90",
   "metadata": {},
   "outputs": [],
   "source": [
    "non_zero_point = np.where((0< distance_np_X)&(distance_np_X<threshold))"
   ]
  },
  {
   "cell_type": "code",
   "execution_count": 106,
   "id": "fd57791b",
   "metadata": {},
   "outputs": [],
   "source": [
    "adj_matrix = np.zeros(distance_np_X.shape)\n",
    "non_zero_point = np.where((0< distance_np_X)&(distance_np_X<threshold))\n",
    "for i in range(num_big):\n",
    "    x = non_zero_point[0][i]\n",
    "    y = non_zero_point[1][i]\n",
    "    adj_matrix[x][y] = 1 \n",
    "adj_matrix  = np.float32(adj_matrix)\n",
    "adj_matrix_crs = sparse.csr_matrix(adj_matrix)"
   ]
  },
  {
   "cell_type": "code",
   "execution_count": 108,
   "id": "aeeaba18",
   "metadata": {},
   "outputs": [],
   "source": [
    "import dgl"
   ]
  },
  {
   "cell_type": "code",
   "execution_count": 110,
   "id": "a7920f4b",
   "metadata": {},
   "outputs": [],
   "source": [
    "graph = dgl.from_scipy(adj_matrix_crs,eweight_name='w')"
   ]
  },
  {
   "cell_type": "code",
   "execution_count": 115,
   "id": "7179c30d",
   "metadata": {},
   "outputs": [
    {
     "data": {
      "text/plain": [
       "Graph(num_nodes=3639, num_edges=21124,\n",
       "      ndata_schemes={}\n",
       "      edata_schemes={'w': Scheme(shape=(), dtype=torch.float32)})"
      ]
     },
     "execution_count": 115,
     "metadata": {},
     "output_type": "execute_result"
    }
   ],
   "source": [
    "graph"
   ]
  },
  {
   "cell_type": "code",
   "execution_count": 112,
   "id": "d86bfafd",
   "metadata": {},
   "outputs": [
    {
     "data": {
      "text/plain": [
       "array([[0, 0, 0, ..., 0, 0, 0],\n",
       "       [0, 0, 0, ..., 0, 0, 0],\n",
       "       [0, 0, 0, ..., 0, 0, 0],\n",
       "       ...,\n",
       "       [0, 0, 0, ..., 0, 0, 0],\n",
       "       [0, 0, 0, ..., 0, 0, 0],\n",
       "       [0, 0, 0, ..., 0, 0, 0]])"
      ]
     },
     "execution_count": 112,
     "metadata": {},
     "output_type": "execute_result"
    }
   ],
   "source": [
    "gene_csv.values"
   ]
  },
  {
   "cell_type": "code",
   "execution_count": 117,
   "id": "cd7f82f0",
   "metadata": {},
   "outputs": [],
   "source": [
    "import torch"
   ]
  },
  {
   "cell_type": "code",
   "execution_count": 120,
   "id": "b408aa39",
   "metadata": {},
   "outputs": [],
   "source": [
    "graph.ndata[\"feat\"] = torch.tensor(gene_csv.values.T)"
   ]
  },
  {
   "cell_type": "code",
   "execution_count": 121,
   "id": "b140654e",
   "metadata": {},
   "outputs": [],
   "source": [
    "adata = ad.AnnData(gene_csv.values.T, obs=distance_loc_csv, var=pd.DataFrame(index = gene_csv.index), dtype='int32')"
   ]
  },
  {
   "cell_type": "code",
   "execution_count": 123,
   "id": "5f808d57",
   "metadata": {},
   "outputs": [],
   "source": [
    "sc.pp.filter_genes(adata, min_cells=5)"
   ]
  },
  {
   "cell_type": "code",
   "execution_count": 124,
   "id": "e5fef528",
   "metadata": {},
   "outputs": [],
   "source": [
    "adata_X = sc.pp.normalize_total(adata, target_sum=1, exclude_highly_expressed=True, inplace=False)['X']\n"
   ]
  },
  {
   "cell_type": "code",
   "execution_count": 126,
   "id": "133791de",
   "metadata": {},
   "outputs": [
    {
     "data": {
      "text/plain": [
       "(3639, 16923)"
      ]
     },
     "execution_count": 126,
     "metadata": {},
     "output_type": "execute_result"
    }
   ],
   "source": [
    "adata_X.shape"
   ]
  },
  {
   "cell_type": "code",
   "execution_count": 128,
   "id": "63110c66",
   "metadata": {},
   "outputs": [],
   "source": [
    "min_cells = 5\n",
    "pca_n_comps = 200\n",
    "adata = ad.AnnData(gene_csv.values.T, obs=distance_loc_csv, var=pd.DataFrame(index = gene_csv.index), dtype='int32')\n",
    "sc.pp.filter_genes(adata, min_cells=5)\n",
    "adata_X = sc.pp.normalize_total(adata, target_sum=1, exclude_highly_expressed=True, inplace=False)['X']\n",
    "adata_X = sc.pp.scale(adata_X)\n",
    "adata_X = sc.pp.pca(adata_X, n_comps=pca_n_comps)\n"
   ]
  },
  {
   "cell_type": "code",
   "execution_count": 136,
   "id": "8e8d8a08",
   "metadata": {},
   "outputs": [
    {
     "ename": "ValueError",
     "evalue": "At least one stride in the given numpy array is negative, and tensors with negative strides are not currently supported. (You can probably work around this by making a copy of your array  with array.copy().) ",
     "output_type": "error",
     "traceback": [
      "\u001b[0;31m---------------------------------------------------------------------------\u001b[0m",
      "\u001b[0;31mValueError\u001b[0m                                Traceback (most recent call last)",
      "\u001b[0;32m/tmp/ipykernel_17540/2583573385.py\u001b[0m in \u001b[0;36m<module>\u001b[0;34m\u001b[0m\n\u001b[0;32m----> 1\u001b[0;31m \u001b[0mtorch\u001b[0m\u001b[0;34m.\u001b[0m\u001b[0mtensor\u001b[0m\u001b[0;34m(\u001b[0m\u001b[0madata_X\u001b[0m\u001b[0;34m)\u001b[0m\u001b[0;34m\u001b[0m\u001b[0;34m\u001b[0m\u001b[0m\n\u001b[0m",
      "\u001b[0;31mValueError\u001b[0m: At least one stride in the given numpy array is negative, and tensors with negative strides are not currently supported. (You can probably work around this by making a copy of your array  with array.copy().) "
     ]
    }
   ],
   "source": [
    "torch.tensor(adata_X)"
   ]
  },
  {
   "cell_type": "code",
   "execution_count": 139,
   "id": "5aaf8326",
   "metadata": {},
   "outputs": [
    {
     "data": {
      "text/plain": [
       "array([[-9.3412457e+00, -3.6780939e+00, -9.8174489e-01, ...,\n",
       "         5.7058209e-01,  1.3656854e-02,  8.8611042e-01],\n",
       "       [ 1.2493225e+01,  1.2731439e+01, -3.1885879e+00, ...,\n",
       "        -1.6465030e+00, -1.9118656e+00, -8.3466291e-01],\n",
       "       [ 2.4679008e+01, -1.9800875e+01, -1.1990883e+01, ...,\n",
       "         3.1888038e-01,  6.1051470e-01, -9.8771882e-01],\n",
       "       ...,\n",
       "       [-6.1442571e+00, -3.7836647e+00, -1.3205265e+00, ...,\n",
       "         7.1048689e-01,  8.2400464e-02, -2.4279246e+00],\n",
       "       [ 2.2798254e+01, -1.2938790e+01, -7.6685309e+00, ...,\n",
       "         8.2874918e-01, -4.6153131e-01, -4.5874929e-01],\n",
       "       [ 7.3554897e+00,  9.0793505e+00, -4.5935483e+00, ...,\n",
       "        -2.0453322e+00,  2.3378162e+00, -1.9939527e-01]], dtype=float32)"
      ]
     },
     "execution_count": 139,
     "metadata": {},
     "output_type": "execute_result"
    }
   ],
   "source": [
    "adata_X.copy()"
   ]
  },
  {
   "cell_type": "code",
   "execution_count": 146,
   "id": "e14bd571",
   "metadata": {},
   "outputs": [],
   "source": [
    "from sklearn.preprocessing import LabelEncoder\n",
    " \n",
    "# Creating a instance of label Encoder.\n",
    "le = LabelEncoder()\n",
    " \n",
    "# Using .fit_transform function to fit label\n",
    "# encoder and return encoded label\n",
    "label = le.fit_transform(gene_loc_data_csv['layer_guess_reordered_short'])"
   ]
  },
  {
   "cell_type": "code",
   "execution_count": 147,
   "id": "556d3ea1",
   "metadata": {},
   "outputs": [],
   "source": [
    "gene_loc_data_csv[\"lay_num\"] = label"
   ]
  },
  {
   "cell_type": "code",
   "execution_count": 140,
   "id": "7b96f1e4",
   "metadata": {},
   "outputs": [
    {
     "data": {
      "text/plain": [
       "Graph(num_nodes=3639, num_edges=21124,\n",
       "      ndata_schemes={'feat': Scheme(shape=(200,), dtype=torch.float32)}\n",
       "      edata_schemes={'w': Scheme(shape=(), dtype=torch.float32)})"
      ]
     },
     "execution_count": 140,
     "metadata": {},
     "output_type": "execute_result"
    }
   ],
   "source": [
    "graph"
   ]
  },
  {
   "cell_type": "code",
   "execution_count": 148,
   "id": "7dfa76b3",
   "metadata": {},
   "outputs": [],
   "source": [
    "graph.ndata[\"feat\"] = torch.tensor(adata_X.copy())\n",
    "num_features = graph.ndata[\"feat\"].shape[1]\n",
    "num_classes = len(set(gene_loc_data_csv.lay_num))"
   ]
  },
  {
   "cell_type": "code",
   "execution_count": 149,
   "id": "ec45532a",
   "metadata": {},
   "outputs": [
    {
     "data": {
      "text/plain": [
       "8"
      ]
     },
     "execution_count": 149,
     "metadata": {},
     "output_type": "execute_result"
    }
   ],
   "source": [
    "num_classes"
   ]
  },
  {
   "cell_type": "code",
   "execution_count": 150,
   "id": "89e7d0ec",
   "metadata": {},
   "outputs": [
    {
     "data": {
      "text/plain": [
       "200"
      ]
     },
     "execution_count": 150,
     "metadata": {},
     "output_type": "execute_result"
    }
   ],
   "source": [
    "num_features"
   ]
  },
  {
   "cell_type": "code",
   "execution_count": null,
   "id": "3715d76a",
   "metadata": {},
   "outputs": [],
   "source": []
  }
 ],
 "metadata": {
  "kernelspec": {
   "display_name": "Python 3 (ipykernel)",
   "language": "python",
   "name": "python3"
  },
  "language_info": {
   "codemirror_mode": {
    "name": "ipython",
    "version": 3
   },
   "file_extension": ".py",
   "mimetype": "text/x-python",
   "name": "python",
   "nbconvert_exporter": "python",
   "pygments_lexer": "ipython3",
   "version": "3.7.12"
  }
 },
 "nbformat": 4,
 "nbformat_minor": 5
}
